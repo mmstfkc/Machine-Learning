{
  "nbformat": 4,
  "nbformat_minor": 0,
  "metadata": {
    "colab": {
      "name": "KNN.ipynb",
      "provenance": [],
      "collapsed_sections": [],
      "authorship_tag": "ABX9TyOCyXfkCihn+e+SswqMVA5d",
      "include_colab_link": true
    },
    "kernelspec": {
      "name": "python3",
      "display_name": "Python 3"
    }
  },
  "cells": [
    {
      "cell_type": "markdown",
      "metadata": {
        "id": "view-in-github",
        "colab_type": "text"
      },
      "source": [
        "<a href=\"https://colab.research.google.com/github/mmstfkc/Machine-Learning/blob/main/KNN.ipynb\" target=\"_parent\"><img src=\"https://colab.research.google.com/assets/colab-badge.svg\" alt=\"Open In Colab\"/></a>"
      ]
    },
    {
      "cell_type": "markdown",
      "metadata": {
        "id": "U6MJ49G4jwaz"
      },
      "source": [
        "# KNN algoritması ile veri setine makine öğrenmesi uygulanışı"
      ]
    },
    {
      "cell_type": "code",
      "metadata": {
        "colab": {
          "base_uri": "https://localhost:8080/",
          "height": 204
        },
        "id": "C8K7-qMQjUk6",
        "outputId": "0197ad8b-920e-4114-e30c-3595bbbc057d"
      },
      "source": [
        "import pandas as pd\r\n",
        "dataset = pd.read_csv('dengue-dataset.csv')\r\n",
        "dataset.head()"
      ],
      "execution_count": 30,
      "outputs": [
        {
          "output_type": "execute_result",
          "data": {
            "text/html": [
              "<div>\n",
              "<style scoped>\n",
              "    .dataframe tbody tr th:only-of-type {\n",
              "        vertical-align: middle;\n",
              "    }\n",
              "\n",
              "    .dataframe tbody tr th {\n",
              "        vertical-align: top;\n",
              "    }\n",
              "\n",
              "    .dataframe thead th {\n",
              "        text-align: right;\n",
              "    }\n",
              "</style>\n",
              "<table border=\"1\" class=\"dataframe\">\n",
              "  <thead>\n",
              "    <tr style=\"text-align: right;\">\n",
              "      <th></th>\n",
              "      <th>data</th>\n",
              "      <th>casos-confirmados</th>\n",
              "      <th>chuva</th>\n",
              "      <th>temperatura-media</th>\n",
              "      <th>temperatura-mininima</th>\n",
              "      <th>temperatura-maxima</th>\n",
              "    </tr>\n",
              "  </thead>\n",
              "  <tbody>\n",
              "    <tr>\n",
              "      <th>0</th>\n",
              "      <td>1998-01-01</td>\n",
              "      <td>237</td>\n",
              "      <td>179.2</td>\n",
              "      <td>25.7</td>\n",
              "      <td>20.2</td>\n",
              "      <td>28.1</td>\n",
              "    </tr>\n",
              "    <tr>\n",
              "      <th>1</th>\n",
              "      <td>1998-02-01</td>\n",
              "      <td>331</td>\n",
              "      <td>226.3</td>\n",
              "      <td>25.1</td>\n",
              "      <td>20.0</td>\n",
              "      <td>28.0</td>\n",
              "    </tr>\n",
              "    <tr>\n",
              "      <th>2</th>\n",
              "      <td>1998-03-01</td>\n",
              "      <td>562</td>\n",
              "      <td>149.1</td>\n",
              "      <td>24.8</td>\n",
              "      <td>22.4</td>\n",
              "      <td>27.2</td>\n",
              "    </tr>\n",
              "    <tr>\n",
              "      <th>3</th>\n",
              "      <td>1998-04-01</td>\n",
              "      <td>187</td>\n",
              "      <td>46.4</td>\n",
              "      <td>22.7</td>\n",
              "      <td>18.1</td>\n",
              "      <td>26.0</td>\n",
              "    </tr>\n",
              "    <tr>\n",
              "      <th>4</th>\n",
              "      <td>1998-05-01</td>\n",
              "      <td>32</td>\n",
              "      <td>88.3</td>\n",
              "      <td>19.2</td>\n",
              "      <td>15.7</td>\n",
              "      <td>22.9</td>\n",
              "    </tr>\n",
              "  </tbody>\n",
              "</table>\n",
              "</div>"
            ],
            "text/plain": [
              "         data  casos-confirmados  ...  temperatura-mininima  temperatura-maxima\n",
              "0  1998-01-01                237  ...                  20.2                28.1\n",
              "1  1998-02-01                331  ...                  20.0                28.0\n",
              "2  1998-03-01                562  ...                  22.4                27.2\n",
              "3  1998-04-01                187  ...                  18.1                26.0\n",
              "4  1998-05-01                 32  ...                  15.7                22.9\n",
              "\n",
              "[5 rows x 6 columns]"
            ]
          },
          "metadata": {
            "tags": []
          },
          "execution_count": 30
        }
      ]
    },
    {
      "cell_type": "code",
      "metadata": {
        "colab": {
          "base_uri": "https://localhost:8080/",
          "height": 204
        },
        "id": "BRAKB7mAk845",
        "outputId": "af07e3fe-eb43-4ee9-cfc8-dc07cbca92e3"
      },
      "source": [
        "col = [\"Date\",\"Confirmed-cases\",\"Rain\",\"Average-temperature\",\"Min-temperature\",\"Max-temperature\"]\r\n",
        "dataset.columns = col\r\n",
        "dataset.head()"
      ],
      "execution_count": 31,
      "outputs": [
        {
          "output_type": "execute_result",
          "data": {
            "text/html": [
              "<div>\n",
              "<style scoped>\n",
              "    .dataframe tbody tr th:only-of-type {\n",
              "        vertical-align: middle;\n",
              "    }\n",
              "\n",
              "    .dataframe tbody tr th {\n",
              "        vertical-align: top;\n",
              "    }\n",
              "\n",
              "    .dataframe thead th {\n",
              "        text-align: right;\n",
              "    }\n",
              "</style>\n",
              "<table border=\"1\" class=\"dataframe\">\n",
              "  <thead>\n",
              "    <tr style=\"text-align: right;\">\n",
              "      <th></th>\n",
              "      <th>Date</th>\n",
              "      <th>Confirmed-cases</th>\n",
              "      <th>Rain</th>\n",
              "      <th>Average-temperature</th>\n",
              "      <th>Min-temperature</th>\n",
              "      <th>Max-temperature</th>\n",
              "    </tr>\n",
              "  </thead>\n",
              "  <tbody>\n",
              "    <tr>\n",
              "      <th>0</th>\n",
              "      <td>1998-01-01</td>\n",
              "      <td>237</td>\n",
              "      <td>179.2</td>\n",
              "      <td>25.7</td>\n",
              "      <td>20.2</td>\n",
              "      <td>28.1</td>\n",
              "    </tr>\n",
              "    <tr>\n",
              "      <th>1</th>\n",
              "      <td>1998-02-01</td>\n",
              "      <td>331</td>\n",
              "      <td>226.3</td>\n",
              "      <td>25.1</td>\n",
              "      <td>20.0</td>\n",
              "      <td>28.0</td>\n",
              "    </tr>\n",
              "    <tr>\n",
              "      <th>2</th>\n",
              "      <td>1998-03-01</td>\n",
              "      <td>562</td>\n",
              "      <td>149.1</td>\n",
              "      <td>24.8</td>\n",
              "      <td>22.4</td>\n",
              "      <td>27.2</td>\n",
              "    </tr>\n",
              "    <tr>\n",
              "      <th>3</th>\n",
              "      <td>1998-04-01</td>\n",
              "      <td>187</td>\n",
              "      <td>46.4</td>\n",
              "      <td>22.7</td>\n",
              "      <td>18.1</td>\n",
              "      <td>26.0</td>\n",
              "    </tr>\n",
              "    <tr>\n",
              "      <th>4</th>\n",
              "      <td>1998-05-01</td>\n",
              "      <td>32</td>\n",
              "      <td>88.3</td>\n",
              "      <td>19.2</td>\n",
              "      <td>15.7</td>\n",
              "      <td>22.9</td>\n",
              "    </tr>\n",
              "  </tbody>\n",
              "</table>\n",
              "</div>"
            ],
            "text/plain": [
              "         Date  Confirmed-cases  ...  Min-temperature  Max-temperature\n",
              "0  1998-01-01              237  ...             20.2             28.1\n",
              "1  1998-02-01              331  ...             20.0             28.0\n",
              "2  1998-03-01              562  ...             22.4             27.2\n",
              "3  1998-04-01              187  ...             18.1             26.0\n",
              "4  1998-05-01               32  ...             15.7             22.9\n",
              "\n",
              "[5 rows x 6 columns]"
            ]
          },
          "metadata": {
            "tags": []
          },
          "execution_count": 31
        }
      ]
    },
    {
      "cell_type": "markdown",
      "metadata": {
        "id": "e-kYpip2Wot4"
      },
      "source": [
        "## Leave \"Date\" as we will not use \"Date\""
      ]
    },
    {
      "cell_type": "code",
      "metadata": {
        "id": "SkMr1Ky8Wpgx"
      },
      "source": [
        "dataset = dataset.drop('Date',axis=1)"
      ],
      "execution_count": 37,
      "outputs": []
    },
    {
      "cell_type": "code",
      "metadata": {
        "id": "-K5bLjsmovHl",
        "colab": {
          "base_uri": "https://localhost:8080/"
        },
        "outputId": "6374607f-2828-4bc9-e149-50d726e789b0"
      },
      "source": [
        "dataset.isnull().any()"
      ],
      "execution_count": 38,
      "outputs": [
        {
          "output_type": "execute_result",
          "data": {
            "text/plain": [
              "Confirmed-cases        False\n",
              "Rain                    True\n",
              "Average-temperature    False\n",
              "Min-temperature        False\n",
              "Max-temperature        False\n",
              "dtype: bool"
            ]
          },
          "metadata": {
            "tags": []
          },
          "execution_count": 38
        }
      ]
    },
    {
      "cell_type": "code",
      "metadata": {
        "colab": {
          "base_uri": "https://localhost:8080/",
          "height": 297
        },
        "id": "C_26Yj9iSk_5",
        "outputId": "7379e492-f880-430b-e921-280a3be0424c"
      },
      "source": [
        "dataset[dataset.Rain.isnull()]"
      ],
      "execution_count": 39,
      "outputs": [
        {
          "output_type": "execute_result",
          "data": {
            "text/html": [
              "<div>\n",
              "<style scoped>\n",
              "    .dataframe tbody tr th:only-of-type {\n",
              "        vertical-align: middle;\n",
              "    }\n",
              "\n",
              "    .dataframe tbody tr th {\n",
              "        vertical-align: top;\n",
              "    }\n",
              "\n",
              "    .dataframe thead th {\n",
              "        text-align: right;\n",
              "    }\n",
              "</style>\n",
              "<table border=\"1\" class=\"dataframe\">\n",
              "  <thead>\n",
              "    <tr style=\"text-align: right;\">\n",
              "      <th></th>\n",
              "      <th>Confirmed-cases</th>\n",
              "      <th>Rain</th>\n",
              "      <th>Average-temperature</th>\n",
              "      <th>Min-temperature</th>\n",
              "      <th>Max-temperature</th>\n",
              "    </tr>\n",
              "  </thead>\n",
              "  <tbody>\n",
              "    <tr>\n",
              "      <th>18</th>\n",
              "      <td>1</td>\n",
              "      <td>NaN</td>\n",
              "      <td>19.6</td>\n",
              "      <td>17.1</td>\n",
              "      <td>22.1</td>\n",
              "    </tr>\n",
              "    <tr>\n",
              "      <th>19</th>\n",
              "      <td>3</td>\n",
              "      <td>NaN</td>\n",
              "      <td>19.8</td>\n",
              "      <td>10.8</td>\n",
              "      <td>24.8</td>\n",
              "    </tr>\n",
              "    <tr>\n",
              "      <th>53</th>\n",
              "      <td>50</td>\n",
              "      <td>NaN</td>\n",
              "      <td>20.9</td>\n",
              "      <td>18.7</td>\n",
              "      <td>22.9</td>\n",
              "    </tr>\n",
              "    <tr>\n",
              "      <th>79</th>\n",
              "      <td>0</td>\n",
              "      <td>NaN</td>\n",
              "      <td>19.9</td>\n",
              "      <td>14.7</td>\n",
              "      <td>23.8</td>\n",
              "    </tr>\n",
              "    <tr>\n",
              "      <th>115</th>\n",
              "      <td>17</td>\n",
              "      <td>NaN</td>\n",
              "      <td>20.8</td>\n",
              "      <td>18.0</td>\n",
              "      <td>23.5</td>\n",
              "    </tr>\n",
              "    <tr>\n",
              "      <th>126</th>\n",
              "      <td>8</td>\n",
              "      <td>NaN</td>\n",
              "      <td>19.2</td>\n",
              "      <td>17.1</td>\n",
              "      <td>22.6</td>\n",
              "    </tr>\n",
              "    <tr>\n",
              "      <th>151</th>\n",
              "      <td>10</td>\n",
              "      <td>NaN</td>\n",
              "      <td>19.6</td>\n",
              "      <td>13.5</td>\n",
              "      <td>24.3</td>\n",
              "    </tr>\n",
              "    <tr>\n",
              "      <th>175</th>\n",
              "      <td>12</td>\n",
              "      <td>NaN</td>\n",
              "      <td>20.3</td>\n",
              "      <td>17.5</td>\n",
              "      <td>21.6</td>\n",
              "    </tr>\n",
              "  </tbody>\n",
              "</table>\n",
              "</div>"
            ],
            "text/plain": [
              "     Confirmed-cases  Rain  ...  Min-temperature  Max-temperature\n",
              "18                 1   NaN  ...             17.1             22.1\n",
              "19                 3   NaN  ...             10.8             24.8\n",
              "53                50   NaN  ...             18.7             22.9\n",
              "79                 0   NaN  ...             14.7             23.8\n",
              "115               17   NaN  ...             18.0             23.5\n",
              "126                8   NaN  ...             17.1             22.6\n",
              "151               10   NaN  ...             13.5             24.3\n",
              "175               12   NaN  ...             17.5             21.6\n",
              "\n",
              "[8 rows x 5 columns]"
            ]
          },
          "metadata": {
            "tags": []
          },
          "execution_count": 39
        }
      ]
    },
    {
      "cell_type": "markdown",
      "metadata": {
        "id": "HqysVxPDTAci"
      },
      "source": [
        "## There are many ways to fill in blank fields. <br>\r\n",
        "Here we would prefer to make the empty parts 0."
      ]
    },
    {
      "cell_type": "code",
      "metadata": {
        "id": "GsLQ5ywhSrLH"
      },
      "source": [
        "dataset.Rain.fillna(value=0,inplace=True)"
      ],
      "execution_count": 40,
      "outputs": []
    },
    {
      "cell_type": "code",
      "metadata": {
        "colab": {
          "base_uri": "https://localhost:8080/",
          "height": 49
        },
        "id": "vStS3rP8UGZK",
        "outputId": "53901b1c-01e9-42d7-ac57-4417f9678894"
      },
      "source": [
        "dataset[dataset.Rain.isnull()]"
      ],
      "execution_count": 41,
      "outputs": [
        {
          "output_type": "execute_result",
          "data": {
            "text/html": [
              "<div>\n",
              "<style scoped>\n",
              "    .dataframe tbody tr th:only-of-type {\n",
              "        vertical-align: middle;\n",
              "    }\n",
              "\n",
              "    .dataframe tbody tr th {\n",
              "        vertical-align: top;\n",
              "    }\n",
              "\n",
              "    .dataframe thead th {\n",
              "        text-align: right;\n",
              "    }\n",
              "</style>\n",
              "<table border=\"1\" class=\"dataframe\">\n",
              "  <thead>\n",
              "    <tr style=\"text-align: right;\">\n",
              "      <th></th>\n",
              "      <th>Confirmed-cases</th>\n",
              "      <th>Rain</th>\n",
              "      <th>Average-temperature</th>\n",
              "      <th>Min-temperature</th>\n",
              "      <th>Max-temperature</th>\n",
              "    </tr>\n",
              "  </thead>\n",
              "  <tbody>\n",
              "  </tbody>\n",
              "</table>\n",
              "</div>"
            ],
            "text/plain": [
              "Empty DataFrame\n",
              "Columns: [Confirmed-cases, Rain, Average-temperature, Min-temperature, Max-temperature]\n",
              "Index: []"
            ]
          },
          "metadata": {
            "tags": []
          },
          "execution_count": 41
        }
      ]
    },
    {
      "cell_type": "markdown",
      "metadata": {
        "id": "e4Zb_-w0UL4d"
      },
      "source": [
        "Data set currently does not have 0"
      ]
    },
    {
      "cell_type": "markdown",
      "metadata": {
        "id": "CFdHt3htVcnw"
      },
      "source": [
        "## We will create targets for our dataset"
      ]
    },
    {
      "cell_type": "code",
      "metadata": {
        "colab": {
          "base_uri": "https://localhost:8080/",
          "height": 204
        },
        "id": "uk5S675uUhhG",
        "outputId": "85a154cf-3f76-4e05-cb9c-4d3301412ff1"
      },
      "source": [
        "dataset['Is-there'] = list(map(lambda x : 1 if x != 0 else 0, dataset['Confirmed-cases']))\r\n",
        "dataset.head()"
      ],
      "execution_count": 42,
      "outputs": [
        {
          "output_type": "execute_result",
          "data": {
            "text/html": [
              "<div>\n",
              "<style scoped>\n",
              "    .dataframe tbody tr th:only-of-type {\n",
              "        vertical-align: middle;\n",
              "    }\n",
              "\n",
              "    .dataframe tbody tr th {\n",
              "        vertical-align: top;\n",
              "    }\n",
              "\n",
              "    .dataframe thead th {\n",
              "        text-align: right;\n",
              "    }\n",
              "</style>\n",
              "<table border=\"1\" class=\"dataframe\">\n",
              "  <thead>\n",
              "    <tr style=\"text-align: right;\">\n",
              "      <th></th>\n",
              "      <th>Confirmed-cases</th>\n",
              "      <th>Rain</th>\n",
              "      <th>Average-temperature</th>\n",
              "      <th>Min-temperature</th>\n",
              "      <th>Max-temperature</th>\n",
              "      <th>Is-there</th>\n",
              "    </tr>\n",
              "  </thead>\n",
              "  <tbody>\n",
              "    <tr>\n",
              "      <th>0</th>\n",
              "      <td>237</td>\n",
              "      <td>179.2</td>\n",
              "      <td>25.7</td>\n",
              "      <td>20.2</td>\n",
              "      <td>28.1</td>\n",
              "      <td>1</td>\n",
              "    </tr>\n",
              "    <tr>\n",
              "      <th>1</th>\n",
              "      <td>331</td>\n",
              "      <td>226.3</td>\n",
              "      <td>25.1</td>\n",
              "      <td>20.0</td>\n",
              "      <td>28.0</td>\n",
              "      <td>1</td>\n",
              "    </tr>\n",
              "    <tr>\n",
              "      <th>2</th>\n",
              "      <td>562</td>\n",
              "      <td>149.1</td>\n",
              "      <td>24.8</td>\n",
              "      <td>22.4</td>\n",
              "      <td>27.2</td>\n",
              "      <td>1</td>\n",
              "    </tr>\n",
              "    <tr>\n",
              "      <th>3</th>\n",
              "      <td>187</td>\n",
              "      <td>46.4</td>\n",
              "      <td>22.7</td>\n",
              "      <td>18.1</td>\n",
              "      <td>26.0</td>\n",
              "      <td>1</td>\n",
              "    </tr>\n",
              "    <tr>\n",
              "      <th>4</th>\n",
              "      <td>32</td>\n",
              "      <td>88.3</td>\n",
              "      <td>19.2</td>\n",
              "      <td>15.7</td>\n",
              "      <td>22.9</td>\n",
              "      <td>1</td>\n",
              "    </tr>\n",
              "  </tbody>\n",
              "</table>\n",
              "</div>"
            ],
            "text/plain": [
              "   Confirmed-cases   Rain  ...  Max-temperature  Is-there\n",
              "0              237  179.2  ...             28.1         1\n",
              "1              331  226.3  ...             28.0         1\n",
              "2              562  149.1  ...             27.2         1\n",
              "3              187   46.4  ...             26.0         1\n",
              "4               32   88.3  ...             22.9         1\n",
              "\n",
              "[5 rows x 6 columns]"
            ]
          },
          "metadata": {
            "tags": []
          },
          "execution_count": 42
        }
      ]
    },
    {
      "cell_type": "markdown",
      "metadata": {
        "id": "XfZoOhGRYEH6"
      },
      "source": [
        "## Now let's separate the target and data"
      ]
    },
    {
      "cell_type": "code",
      "metadata": {
        "colab": {
          "base_uri": "https://localhost:8080/"
        },
        "id": "7tgr2UIjWYzi",
        "outputId": "5952b0c3-2780-48da-f740-33ecfed67cf8"
      },
      "source": [
        "target = dataset['Is-there']\r\n",
        "data = dataset.drop('Is-there',axis=1)\r\n",
        "print(data.shape)\r\n",
        "print(target.shape)"
      ],
      "execution_count": 45,
      "outputs": [
        {
          "output_type": "stream",
          "text": [
            "(204, 5)\n",
            "(204,)\n"
          ],
          "name": "stdout"
        }
      ]
    },
    {
      "cell_type": "markdown",
      "metadata": {
        "id": "pEifMdH4ZN3Z"
      },
      "source": [
        "## Now let's separate the train and test data"
      ]
    },
    {
      "cell_type": "code",
      "metadata": {
        "colab": {
          "base_uri": "https://localhost:8080/"
        },
        "id": "JWpeYs5RYvwH",
        "outputId": "160cc92a-f5b1-4e65-b78f-b6f5c69ff096"
      },
      "source": [
        "from sklearn.model_selection import train_test_split\r\n",
        "X_train,X_test,Y_train,Y_test = train_test_split(data,target,random_state=0)\r\n",
        "print(f\"X_train:{X_train.shape}\")\r\n",
        "print(f\"Y_train:{Y_train.shape}\")\r\n",
        "print(f\"X_test:{X_test.shape}\")\r\n",
        "print(f\"Y_Test:{Y_test.shape}\")"
      ],
      "execution_count": 50,
      "outputs": [
        {
          "output_type": "stream",
          "text": [
            "X_train:(153, 5)\n",
            "Y_train:(153,)\n",
            "X_test:(51, 5)\n",
            "Y_Test:(51,)\n"
          ],
          "name": "stdout"
        }
      ]
    },
    {
      "cell_type": "markdown",
      "metadata": {
        "id": "K8QhiVNuc_L3"
      },
      "source": [
        "## We  will create the model"
      ]
    },
    {
      "cell_type": "code",
      "metadata": {
        "id": "W6DgTS7WZ52T"
      },
      "source": [
        "from sklearn.neighbors import KNeighborsClassifier\r\n",
        "KNN = KNeighborsClassifier(n_neighbors=3)"
      ],
      "execution_count": 53,
      "outputs": []
    },
    {
      "cell_type": "markdown",
      "metadata": {
        "id": "Y4myksrlfQ3m"
      },
      "source": [
        "## Education Success"
      ]
    },
    {
      "cell_type": "code",
      "metadata": {
        "colab": {
          "base_uri": "https://localhost:8080/"
        },
        "id": "_j40wbaHc5I4",
        "outputId": "1941aea1-5f10-4048-819f-e78086bca720"
      },
      "source": [
        "model = KNN.fit(X_train,Y_train)\r\n",
        "model.score(X_train,Y_train)"
      ],
      "execution_count": 66,
      "outputs": [
        {
          "output_type": "execute_result",
          "data": {
            "text/plain": [
              "0.9477124183006536"
            ]
          },
          "metadata": {
            "tags": []
          },
          "execution_count": 66
        }
      ]
    },
    {
      "cell_type": "code",
      "metadata": {
        "id": "G78F1Fh8dre9"
      },
      "source": [
        "KNN_pred = model.predict(X_test)"
      ],
      "execution_count": 59,
      "outputs": []
    },
    {
      "cell_type": "markdown",
      "metadata": {
        "id": "qGVA2e0xtpxX"
      },
      "source": [
        "## Confusion matrix,accuracy score and precision score"
      ]
    },
    {
      "cell_type": "code",
      "metadata": {
        "id": "2UFHiYfXgX91"
      },
      "source": [
        "from sklearn.metrics import confusion_matrix,accuracy_score,precision_score"
      ],
      "execution_count": 61,
      "outputs": []
    },
    {
      "cell_type": "code",
      "metadata": {
        "id": "iP9Bk-Kzd4SI"
      },
      "source": [
        "matris = confusion_matrix(Y_test,KNN_pred)\r\n",
        "acc = accuracy_score(Y_test,KNN_pred)\r\n",
        "precision = precision_score(Y_test,KNN_pred)"
      ],
      "execution_count": 67,
      "outputs": []
    },
    {
      "cell_type": "code",
      "metadata": {
        "colab": {
          "base_uri": "https://localhost:8080/"
        },
        "id": "k5JpxfCjgW9z",
        "outputId": "c2509cdd-2e52-4fae-c2d9-c1a53d4d350f"
      },
      "source": [
        "print('Confusion Matrix :')\r\n",
        "print(matris)\r\n",
        "print('\\nAccuracy :')\r\n",
        "print(acc)\r\n",
        "print('\\nPrecision :')\r\n",
        "print(precision)"
      ],
      "execution_count": 68,
      "outputs": [
        {
          "output_type": "stream",
          "text": [
            "Confusion Matrix :\n",
            "[[ 1  1]\n",
            " [ 2 47]]\n",
            "\n",
            "Accuracy :\n",
            "0.9411764705882353\n",
            "\n",
            "Precision :\n",
            "0.9791666666666666\n"
          ],
          "name": "stdout"
        }
      ]
    }
  ]
}